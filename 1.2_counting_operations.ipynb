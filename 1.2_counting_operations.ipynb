{
 "cells": [
  {
   "cell_type": "markdown",
   "metadata": {},
   "source": [
    "# Counting operations involved "
   ]
  },
  {
   "cell_type": "code",
   "execution_count": null,
   "metadata": {},
   "outputs": [],
   "source": [
    "def sum(n):\n",
    "   n = int(input(\"enter a number\"))\n",
    "   total = 0\n",
    "   for _ in range(n+1): # 1 operation +\n",
    "      total += 1 # 2 operation + and = \n",
    "   return total"
   ]
  },
  {
   "cell_type": "markdown",
   "metadata": {},
   "source": [
    "### Assume these steps take the constant time \n",
    "- mathemtical operations\n",
    "- Assigments \n",
    "- comparisons \n",
    "- accessing object in memory e.g loop, recursion\n",
    "To Count the num operations count the above circumstances\n",
    "\n",
    "In the above code: n & total are 2 operations, loop operation will be counted by n <br>\n",
    "n=10 then 2 + 3(10) = 32 <br>\n",
    "n=41 then 2 + 3(41) = 125 <br>"
   ]
  },
  {
   "cell_type": "markdown",
   "metadata": {},
   "source": [
    "### success with counting operations\n",
    "- differemt time for different algo\n",
    "- machine can vary but the time is same, 12 operation in M1, 12 operation in R7\n",
    "- Time can vary but can establishes a mathematical relationship\n",
    "\n",
    "### problems with counting operations\n",
    "- Time varies if implementation changes e.g recursion, while loop will disrupt the number of operations\n",
    "- No clear def of which operation to count e.g shall we count return, other than following cirumstances"
   ]
  }
 ],
 "metadata": {
  "language_info": {
   "name": "python"
  },
  "orig_nbformat": 4
 },
 "nbformat": 4,
 "nbformat_minor": 2
}
