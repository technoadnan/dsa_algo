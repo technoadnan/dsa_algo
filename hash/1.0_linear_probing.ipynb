{
 "cells": [
  {
   "cell_type": "code",
   "execution_count": 1,
   "metadata": {},
   "outputs": [],
   "source": [
    "class Dict:\n",
    "   def __init__(self, size) -> None:\n",
    "      self.size = size\n",
    "      self.slots = [None] * self.size\n",
    "      self.data = [None] * self.size\n",
    "\n",
    "\n",
    "   def put(self, key, value):\n",
    "      hash_val = self.hash_func(key)\n",
    "\n",
    "      # if the space is None\n",
    "      if self.slots[hash_val] == None:\n",
    "         self.slots[hash_val] = key\n",
    "         self.data[hash_val] = value\n",
    "      # the space is not None\n",
    "      else:\n",
    "         # the space is occupied by an old key, change the value only\n",
    "         if self.slots[hash_val] == key:\n",
    "            self.data[hash_val] = value\n",
    "         else: \n",
    "            # A new value on existing key\n",
    "            new_hash_value = self.rehash(hash_val)\n",
    "            # calcualate it until we don't find None and key\n",
    "            while self.slots[new_hash_value] != None and self.slots[new_hash_value] != key:\n",
    "               new_hash_value = self.rehash(new_hash_value)\n",
    "            # if we find None\n",
    "            if self.slots[new_hash_value] == None:\n",
    "               self.slots[new_hash_value] = key\n",
    "               self.data[new_hash_value] = value\n",
    "            else: # if we want to upt existing value\n",
    "               self.data[new_hash_value] = value\n",
    "   \n",
    "   def rehash(self, oldhash):\n",
    "      return oldhash + 1\n",
    "\n",
    "   \n",
    "   def hash_func(self, key):\n",
    "      return abs(hash(key)) % self.size\n",
    "   "
   ]
  }
 ],
 "metadata": {
  "kernelspec": {
   "display_name": "Python 3",
   "language": "python",
   "name": "python3"
  },
  "language_info": {
   "codemirror_mode": {
    "name": "ipython",
    "version": 3
   },
   "file_extension": ".py",
   "mimetype": "text/x-python",
   "name": "python",
   "nbconvert_exporter": "python",
   "pygments_lexer": "ipython3",
   "version": "3.12.1"
  },
  "orig_nbformat": 4
 },
 "nbformat": 4,
 "nbformat_minor": 2
}
