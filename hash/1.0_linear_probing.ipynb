{
 "cells": [
  {
   "cell_type": "code",
   "execution_count": 1,
   "metadata": {},
   "outputs": [],
   "source": [
    "class Dict:\n",
    "   def __init__(self, size) -> None:\n",
    "      self.size = size\n",
    "      self.slots = [None] * self.size\n",
    "      self.data = [None] * self.size\n",
    "\n",
    "\n",
    "   def put(self, key, value):\n",
    "      hash_val = self.hash_func(key)\n",
    "\n",
    "      # if the space is None\n",
    "      if self.slots[hash_val] == None:\n",
    "         self.slots[hash_val] = key\n",
    "         self.data[hash_val] = value\n",
    "      # the space is not None\n",
    "      else:\n",
    "         # the space is occupied by an old key, change the value only\n",
    "         if self.slots[hash_val] == key:\n",
    "            self.data[hash_val] = value\n",
    "         else: \n",
    "            # A new value on existing key\n",
    "            new_hash_value = self.rehash(hash_val)\n",
    "            # calcualate it until we don't find None and key\n",
    "            while self.slots[new_hash_value] != None and self.slots[new_hash_value] != key:\n",
    "               new_hash_value = self.rehash(new_hash_value)\n",
    "            # if we find None\n",
    "            if self.slots[new_hash_value] == None:\n",
    "               self.slots[new_hash_value] = key\n",
    "               self.data[new_hash_value] = value\n",
    "            else: # if we want to upt existing value\n",
    "               self.data[new_hash_value] = value\n",
    "   \n",
    "   def rehash(self, oldhash):\n",
    "      return (oldhash + 1) % self.size\n",
    "\n",
    "   def hash_func(self, key):\n",
    "      return abs(hash(key)) % self.size\n",
    "   \n",
    "   def get(self, key):\n",
    "      start_pos = self.hash_func(key=key)\n",
    "      curr_pos = start_pos\n",
    "\n",
    "      while self.slots[curr_pos] != None:\n",
    "         if self.slots[curr_pos] == key:\n",
    "            return self.data[curr_pos]\n",
    "         \n",
    "      curr_pos = self.rehash(curr_pos)\n",
    "      if curr_pos == start_pos:\n",
    "         return \"Not found\"\n",
    "      else:\n",
    "         return \"NONE --> Not found\"\n",
    "\n",
    "   def __setitem__(self,key,value):\n",
    "      self.put(key, value)   "
   ]
  },
  {
   "cell_type": "code",
   "execution_count": 2,
   "metadata": {},
   "outputs": [],
   "source": [
    "d = Dict(3)"
   ]
  },
  {
   "cell_type": "code",
   "execution_count": 11,
   "metadata": {},
   "outputs": [
    {
     "name": "stdout",
     "output_type": "stream",
     "text": [
      "['java', 'python', 'c++']\n",
      "[1, 90, 3]\n"
     ]
    }
   ],
   "source": [
    "print(d.slots)\n",
    "print(d.data)"
   ]
  },
  {
   "cell_type": "code",
   "execution_count": 4,
   "metadata": {},
   "outputs": [],
   "source": [
    "d.put(\"python\",90)"
   ]
  },
  {
   "cell_type": "code",
   "execution_count": 5,
   "metadata": {},
   "outputs": [],
   "source": [
    "d.put(\"java\",1)"
   ]
  },
  {
   "cell_type": "code",
   "execution_count": 6,
   "metadata": {},
   "outputs": [],
   "source": [
    "d.put(\"c++\", 3)"
   ]
  },
  {
   "cell_type": "code",
   "execution_count": 10,
   "metadata": {},
   "outputs": [
    {
     "data": {
      "text/plain": [
       "3"
      ]
     },
     "execution_count": 10,
     "metadata": {},
     "output_type": "execute_result"
    }
   ],
   "source": [
    "d.get(\"c++\")"
   ]
  },
  {
   "cell_type": "code",
   "execution_count": null,
   "metadata": {},
   "outputs": [],
   "source": []
  }
 ],
 "metadata": {
  "kernelspec": {
   "display_name": "Python 3",
   "language": "python",
   "name": "python3"
  },
  "language_info": {
   "codemirror_mode": {
    "name": "ipython",
    "version": 3
   },
   "file_extension": ".py",
   "mimetype": "text/x-python",
   "name": "python",
   "nbconvert_exporter": "python",
   "pygments_lexer": "ipython3",
   "version": "3.12.1"
  },
  "orig_nbformat": 4
 },
 "nbformat": 4,
 "nbformat_minor": 2
}
