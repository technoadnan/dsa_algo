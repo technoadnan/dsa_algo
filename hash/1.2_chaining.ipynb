{
 "cells": [
  {
   "cell_type": "code",
   "execution_count": 1,
   "metadata": {},
   "outputs": [],
   "source": [
    "class Node:\n",
    "   def __init__(self, key, value):\n",
    "      self.key = key\n",
    "      self.value = value\n",
    "      self.next = None\n",
    "\n",
    "\n",
    "class LL:\n",
    "   def __init__(self):\n",
    "      self.head = None\n",
    "   \n",
    "   def traverse(self):\n",
    "      temp = self.head\n",
    "      while temp != None:\n",
    "         print(temp.key,\"-->\",temp.value,\" \", end=\" \")\n",
    "         temp = temp.next\n",
    "\n",
    "   def append(self, key, value):\n",
    "\n",
    "      new_node = Node(key, value)\n",
    "\n",
    "      if self.head == None:\n",
    "         # empty\n",
    "         self.head = new_node\n",
    "         return\n",
    "\n",
    "      curr = self.head\n",
    "\n",
    "      while curr.next != None:\n",
    "         curr = curr.next\n",
    "\n",
    "      # you are at the last node\n",
    "      curr.next = new_node\n",
    "\n",
    "   def remove(self, key):\n",
    "\n",
    "      if self.head == None:\n",
    "         return 'Empty LL'\n",
    "\n",
    "      if self.head.key == key:\n",
    "         # you want to remove the head node\n",
    "         return self.delete_head()\n",
    "\n",
    "      curr = self.head\n",
    "\n",
    "      while curr.next != None:\n",
    "         if curr.next.key == key:\n",
    "            break\n",
    "         curr = curr.next\n",
    "\n",
    "      # 2 cases item mil gaya\n",
    "      # item nai mila\n",
    "      if curr.next == None:\n",
    "         # item nai mila\n",
    "         return 'Not Found'\n",
    "      else:\n",
    "         curr.next = curr.next.next\n",
    "         self.n = self.n - 1\n",
    "\n",
    "   def search(self,key):\n",
    "\n",
    "      temp = self.head\n",
    "      pos = 0\n",
    "\n",
    "      while temp != None:\n",
    "\n",
    "         if temp.key == key:\n",
    "            return pos\n",
    "         temp = temp.next\n",
    "         pos += 1\n",
    "\n",
    "      return -1\n",
    "   \n",
    "   def get_node_at_index(self, index):\n",
    "      curr = self.head\n",
    "      counter = 0\n",
    "\n",
    "      while curr is not None:\n",
    "         if counter == index:\n",
    "            return curr\n",
    "         curr = curr.next\n",
    "         counter += 1\n",
    "\n",
    "\n"
   ]
  },
  {
   "cell_type": "code",
   "execution_count": 2,
   "metadata": {},
   "outputs": [],
   "source": [
    "\n",
    "class Dict:\n",
    "   def __init__(self, capacity) -> None:\n",
    "      self.capacity = capacity\n",
    "      self.size = 0\n",
    "      self.buckets = self.make_array(capacity)\n",
    "\n",
    "   def make_array(self, capacity):\n",
    "      l = []\n",
    "      for _ in range(capacity):\n",
    "         \n",
    "         l.append(LL())\n",
    "      return l    \n",
    "   \n",
    "   def put(self, key, value):\n",
    "      bucket_index = self.hash_func(key)\n",
    "      node_index = self.get_node_index(bucket_index, key)\n",
    "\n",
    "      if node_index == -1:\n",
    "         # insert\n",
    "         self.buckets[bucket_index].append(key,value)\n",
    "      else:\n",
    "         node = self.buckets[bucket_index].get_node_at_index(node_index)\n",
    "         \n",
    "   def get_node_index(self, bucket_index, key):\n",
    "      node_index = self.buckets[bucket_index].search(key)\n",
    "      return node_index\n",
    "   \n",
    "   def hash_func(self, key):\n",
    "      return abs(hash(key)) % self.capacity\n",
    "   "
   ]
  },
  {
   "cell_type": "code",
   "execution_count": 5,
   "metadata": {},
   "outputs": [],
   "source": [
    "a = Dict(4)"
   ]
  },
  {
   "cell_type": "code",
   "execution_count": 6,
   "metadata": {},
   "outputs": [],
   "source": [
    "a.put(\"he2llo\", 3435)\n",
    "a.put(\"he2llasd\", 4535)\n",
    "a.put(\"he2lasdsadlo\", 45365)\n",
    "a.put(\"he2ldsfdsflo\", 4375)"
   ]
  },
  {
   "cell_type": "code",
   "execution_count": 7,
   "metadata": {},
   "outputs": [
    {
     "name": "stdout",
     "output_type": "stream",
     "text": [
      "he2lasdsadlo --> 45365   he2ldsfdsflo --> 4375   "
     ]
    }
   ],
   "source": [
    "a.buckets[1].traverse()"
   ]
  },
  {
   "cell_type": "code",
   "execution_count": null,
   "metadata": {},
   "outputs": [],
   "source": []
  }
 ],
 "metadata": {
  "kernelspec": {
   "display_name": "Python 3",
   "language": "python",
   "name": "python3"
  },
  "language_info": {
   "codemirror_mode": {
    "name": "ipython",
    "version": 3
   },
   "file_extension": ".py",
   "mimetype": "text/x-python",
   "name": "python",
   "nbconvert_exporter": "python",
   "pygments_lexer": "ipython3",
   "version": "3.12.1"
  },
  "orig_nbformat": 4
 },
 "nbformat": 4,
 "nbformat_minor": 2
}
