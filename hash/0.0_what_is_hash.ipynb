{
 "cells": [
  {
   "cell_type": "markdown",
   "metadata": {},
   "source": [
    "#### Storing and retreving data in a constant time O(1) "
   ]
  },
  {
   "cell_type": "markdown",
   "metadata": {},
   "source": [
    "If collisions happens\n",
    "- open addressing (close hashing)\n",
    "   - Linear probing\n",
    "   - Quadractic probing \n",
    "   - Double Hashing\n",
    "- chaining (open hashing)"
   ]
  }
 ],
 "metadata": {
  "language_info": {
   "name": "python"
  },
  "orig_nbformat": 4
 },
 "nbformat": 4,
 "nbformat_minor": 2
}
