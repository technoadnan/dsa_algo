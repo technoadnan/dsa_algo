{
 "cells": [
  {
   "cell_type": "markdown",
   "metadata": {},
   "source": [
    "# Measuring Time"
   ]
  },
  {
   "cell_type": "markdown",
   "metadata": {},
   "source": [
    "## Techniques to measure Time Complexity\n",
    "1. Measuring Time to excute \n",
    "2. Counting operations involved \n",
    "3. Abstract notion of Order of Growth "
   ]
  },
  {
   "cell_type": "markdown",
   "metadata": {},
   "source": [
    "### Measuring Time to excute"
   ]
  },
  {
   "cell_type": "code",
   "execution_count": 51,
   "metadata": {},
   "outputs": [
    {
     "name": "stdout",
     "output_type": "stream",
     "text": [
      "0.0\n"
     ]
    }
   ],
   "source": [
    "import time\n",
    "start = time.time()\n",
    "for j in range(0,101):\n",
    "  pass\n",
    "print(time.time() - start)"
   ]
  },
  {
   "cell_type": "code",
   "execution_count": 48,
   "metadata": {},
   "outputs": [
    {
     "name": "stdout",
     "output_type": "stream",
     "text": [
      "0.0\n"
     ]
    }
   ],
   "source": [
    "import time\n",
    "start = time.time()\n",
    "i = 0\n",
    "while i < 1000:\n",
    "   print(i)\n",
    "   i += 1\n",
    "print(time.time() - start)"
   ]
  },
  {
   "cell_type": "markdown",
   "metadata": {},
   "source": [
    "#### sucess with time()\n",
    "- Different time for different algo e.g time will be different in different code\n",
    "\n",
    "#### problem with time()\n",
    "\n",
    "- Time might be different in different machines, since processor matters\n",
    "- Doesn't work well in small ouputs\n",
    "   - range(0,10) \n",
    "- Time varies if implemantion changes, time changes even though the idea is change\n",
    "   - for loop takes 0.008001089096069336 _this number changes too_\n",
    "   - while loop takes 0.05989813804626465 _this number changes too_"
   ]
  },
  {
   "cell_type": "markdown",
   "metadata": {},
   "source": [
    "### Counting operations involved "
   ]
  },
  {
   "cell_type": "code",
   "execution_count": null,
   "metadata": {},
   "outputs": [],
   "source": [
    "def sum(n):\n",
    "   n = int(input(\"enter a number\"))\n",
    "   total = 0\n",
    "   for _ in range(n+1): # 1 operation +\n",
    "      total += 1 # 2 operation + and = \n",
    "   return total"
   ]
  },
  {
   "cell_type": "markdown",
   "metadata": {},
   "source": [
    "#### Assume these steps take the constant time \n",
    "- mathemtical operations\n",
    "- Assigments \n",
    "- comparisons \n",
    "- accessing object in memory e.g loop, recursion\n",
    "To Count the num operations count the above circumstances\n",
    "\n",
    "In the above code: n & total are 2 operations, loop operation will be counted by n <br>\n",
    "n=10 then 2 + 3(10) = 32 <br>\n",
    "n=41 then 2 + 3(41) = 125 <br>"
   ]
  },
  {
   "cell_type": "markdown",
   "metadata": {},
   "source": [
    "#### success with counting operations\n",
    "- differemt time for different algo\n",
    "- machine can vary but the time is same, 12 operation in M1, 12 operation in R7\n",
    "- Time can vary but can establishes a mathematical relationship\n",
    "\n",
    "#### problems with counting operations\n",
    "- Time varies if implementation changes e.g recursion, while loop will disrupt the number of operations\n",
    "- No clear def of which operation to count e.g shall we count return, other than following cirumstances"
   ]
  },
  {
   "cell_type": "markdown",
   "metadata": {},
   "source": []
  }
 ],
 "metadata": {
  "kernelspec": {
   "display_name": "Python 3",
   "language": "python",
   "name": "python3"
  },
  "language_info": {
   "codemirror_mode": {
    "name": "ipython",
    "version": 3
   },
   "file_extension": ".py",
   "mimetype": "text/x-python",
   "name": "python",
   "nbconvert_exporter": "python",
   "pygments_lexer": "ipython3",
   "version": "3.10.11"
  },
  "orig_nbformat": 4
 },
 "nbformat": 4,
 "nbformat_minor": 2
}
