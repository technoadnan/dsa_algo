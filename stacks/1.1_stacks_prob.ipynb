{
 "cells": [
  {
   "cell_type": "code",
   "execution_count": 3,
   "metadata": {},
   "outputs": [],
   "source": [
    "class Node:\n",
    "   def __init__(self, data) -> None:\n",
    "      self.data = data\n",
    "      self.ref = None\n",
    "\n",
    "class Stack():\n",
    "   def __init__(self) -> None:\n",
    "      self.top = None\n",
    "\n",
    "   def size(self):\n",
    "      i = 0\n",
    "      curr = self.top\n",
    "      while curr is not None:\n",
    "         i += 1\n",
    "         curr = curr.ref\n",
    "      return i\n",
    "\n",
    "   def __str__(self) -> str:\n",
    "      curr = self.top\n",
    "\n",
    "      statement = \"\"\n",
    "      while curr is not None:\n",
    "         statement += f\"{str(curr.data)} \"\n",
    "         curr = curr.ref\n",
    "      return statement\n",
    "\n",
    "   def push(self, val):\n",
    "      new_node = Node(val)\n",
    "      new_node.ref = self.top\n",
    "      self.top = new_node\n",
    "\n",
    "   def isempty(self):\n",
    "      return self.top == None\n",
    "\n",
    "   def peek(self):\n",
    "      if self.isempty():\n",
    "         return \"List is empty\"\n",
    "      return self.top.data\n",
    "   \n",
    "   def pop(self):\n",
    "      curr = self.top\n",
    "      if curr is None:\n",
    "         return \"No elements to pop\"\n",
    "      else:\n",
    "         self.top = curr.ref\n",
    "         return curr.data"
   ]
  },
  {
   "cell_type": "markdown",
   "metadata": {},
   "source": [
    "#### reverse a string with stack\n"
   ]
  },
  {
   "cell_type": "code",
   "execution_count": null,
   "metadata": {},
   "outputs": [],
   "source": [
    "#### reverse a string with stack\n",
    "def reverse_str(str):\n",
    "   s = Stack()\n",
    "   for j in str:\n",
    "      s.push(j)\n",
    "   \n",
    "   new_str = \"\"\n",
    "   while (not s.isempty()):\n",
    "      new_str = s.pop() + new_str\n",
    "   \n",
    "   print(new_str)"
   ]
  },
  {
   "cell_type": "markdown",
   "metadata": {},
   "source": [
    "#### Text editor problem"
   ]
  },
  {
   "cell_type": "code",
   "execution_count": 26,
   "metadata": {},
   "outputs": [],
   "source": [
    "# Text editor problem\n",
    "# hello\n",
    "# uuurr -> hell --> hel --> he --> hel --> hell\n",
    "\n",
    "def undo_redo(str, pattern):\n",
    "   undo_stack = Stack()\n",
    "   redo_stack = Stack()\n",
    "\n",
    "   for i in str:\n",
    "      undo_stack.push(i)\n",
    "\n",
    "   for j in pattern:\n",
    "      if j == \"u\":\n",
    "         redo_stack.push(undo_stack.peek())\n",
    "         undo_stack.pop()\n",
    "      elif j == \"r\":\n",
    "         undo_stack.push(redo_stack.peek())\n",
    "         redo_stack.pop()\n",
    "\n",
    "   res = \"\"   \n",
    "   while (not undo_stack.isempty()):\n",
    "      res = undo_stack.pop() + res\n",
    "   print(res)\n"
   ]
  },
  {
   "cell_type": "code",
   "execution_count": 27,
   "metadata": {},
   "outputs": [
    {
     "name": "stdout",
     "output_type": "stream",
     "text": [
      "hell\n"
     ]
    }
   ],
   "source": [
    "undo_redo(\"hello\",'uuurr')"
   ]
  },
  {
   "cell_type": "markdown",
   "metadata": {},
   "source": [
    "#### Find the celebrity"
   ]
  },
  {
   "cell_type": "code",
   "execution_count": 2,
   "metadata": {},
   "outputs": [
    {
     "name": "stdout",
     "output_type": "stream",
     "text": [
      "Celebrity is 1\n"
     ]
    }
   ],
   "source": [
    "L = [\n",
    "   [0, 1, 1, 1],\n",
    "   [0, 0, 0, 0],\n",
    "   [1, 1, 0, 0],\n",
    "   [0, 1, 1, 0]\n",
    "]\n",
    "\n",
    "\n",
    "def celebrity(L):\n",
    "\n",
    "   s = Stack()\n",
    "\n",
    "   for i in range(len(L)):\n",
    "      s.push(i)\n",
    "\n",
    "   while s.size() >= 2:\n",
    "\n",
    "      i = s.pop()\n",
    "      j = s.pop()\n",
    "\n",
    "      if L[i][j] == 0:\n",
    "         # j is not a celebrity\n",
    "         s.push(i)\n",
    "      else:\n",
    "         # i is not a celebrity\n",
    "         s.push(j)\n",
    "\n",
    "   cel = s.pop()\n",
    "\n",
    "   for i in range(len(L)):\n",
    "\n",
    "      if i != cel:\n",
    "\n",
    "         if L[i][cel] != 1 or L[cel][i] != 0:\n",
    "            print(\"No celebrity\")\n",
    "            return\n",
    "   print(\"Celebrity is\", cel)\n",
    "\n",
    "celebrity(L)"
   ]
  },
  {
   "cell_type": "markdown",
   "metadata": {},
   "source": [
    "#### match Bracket problem"
   ]
  },
  {
   "cell_type": "code",
   "execution_count": 4,
   "metadata": {},
   "outputs": [],
   "source": [
    "def is_bracket_correct(str):\n",
    "   s = Stack()\n",
    "   open_brackets = ['{', '[', '(']\n",
    "   close_brackets = ['}', ']', ')']\n",
    "\n",
    "   i,k = -1, -1\n",
    "   for j in range(len(str)):\n",
    "      if str[j] in open_brackets:\n",
    "         i += 1\n",
    "         s.push(str[j])\n",
    "      if str[j] in close_brackets:\n",
    "         s.pop()\n",
    "         k += 1\n",
    "   if i != k:\n",
    "      return False\n",
    "   return True"
   ]
  },
  {
   "cell_type": "code",
   "execution_count": 5,
   "metadata": {},
   "outputs": [
    {
     "name": "stdout",
     "output_type": "stream",
     "text": [
      "True\n"
     ]
    }
   ],
   "source": [
    "print(is_bracket_correct(\"[{(a+b)+(c+d)}]\"))"
   ]
  },
  {
   "cell_type": "code",
   "execution_count": 6,
   "metadata": {},
   "outputs": [
    {
     "name": "stdout",
     "output_type": "stream",
     "text": [
      "False\n"
     ]
    }
   ],
   "source": [
    "print(is_bracket_correct(\"[{(a+b+(c+d)}]\"))"
   ]
  }
 ],
 "metadata": {
  "kernelspec": {
   "display_name": "Python 3",
   "language": "python",
   "name": "python3"
  },
  "language_info": {
   "codemirror_mode": {
    "name": "ipython",
    "version": 3
   },
   "file_extension": ".py",
   "mimetype": "text/x-python",
   "name": "python",
   "nbconvert_exporter": "python",
   "pygments_lexer": "ipython3",
   "version": "3.12.1"
  },
  "orig_nbformat": 4
 },
 "nbformat": 4,
 "nbformat_minor": 2
}
