{
 "cells": [
  {
   "cell_type": "code",
   "execution_count": 25,
   "metadata": {},
   "outputs": [],
   "source": [
    "class Node:\n",
    "   def __init__(self, data) -> None:\n",
    "      self.data = data\n",
    "      self.ref = None\n",
    "\n",
    "class Stack():\n",
    "   def __init__(self) -> None:\n",
    "      self.top = None\n",
    "\n",
    "   def __str__(self) -> str:\n",
    "      curr = self.top\n",
    "\n",
    "      statement = \"\"\n",
    "      while curr is not None:\n",
    "         statement += f\"{str(curr.data)} \"\n",
    "         curr = curr.ref\n",
    "      return statement\n",
    "\n",
    "   def push(self, val):\n",
    "      new_node = Node(val)\n",
    "      new_node.ref = self.top\n",
    "      self.top = new_node\n",
    "\n",
    "   def isempty(self):\n",
    "      return self.top == None\n",
    "\n",
    "   def peek(self):\n",
    "      if self.isempty():\n",
    "         return \"List is empty\"\n",
    "      return self.top.data\n",
    "   \n",
    "   def pop(self):\n",
    "      curr = self.top\n",
    "      if curr is None:\n",
    "         return \"No elements to pop\"\n",
    "      else:\n",
    "         self.top = curr.ref\n",
    "         return curr.data"
   ]
  },
  {
   "cell_type": "markdown",
   "metadata": {},
   "source": [
    "#### reverse a string with stack\n"
   ]
  },
  {
   "cell_type": "code",
   "execution_count": null,
   "metadata": {},
   "outputs": [],
   "source": [
    "#### reverse a string with stack\n",
    "def reverse_str(str):\n",
    "   s = Stack()\n",
    "   for j in str:\n",
    "      s.push(j)\n",
    "   \n",
    "   new_str = \"\"\n",
    "   while (not s.isempty()):\n",
    "      new_str = s.pop() + new_str\n",
    "   \n",
    "   print(new_str)"
   ]
  }
 ],
 "metadata": {
  "kernelspec": {
   "display_name": "Python 3",
   "language": "python",
   "name": "python3"
  },
  "language_info": {
   "codemirror_mode": {
    "name": "ipython",
    "version": 3
   },
   "file_extension": ".py",
   "mimetype": "text/x-python",
   "name": "python",
   "nbconvert_exporter": "python",
   "pygments_lexer": "ipython3",
   "version": "3.12.1"
  },
  "orig_nbformat": 4
 },
 "nbformat": 4,
 "nbformat_minor": 2
}
