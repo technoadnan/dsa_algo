{
 "cells": [
  {
   "cell_type": "code",
   "execution_count": 1,
   "metadata": {},
   "outputs": [],
   "source": [
    "class Node:\n",
    "   def __init__(self, data) -> None:\n",
    "      self.data = data\n",
    "      self.ref = None\n",
    "\n",
    "class Stack():\n",
    "   def __init__(self) -> None:\n",
    "      self.top = None\n",
    "\n",
    "   def size(self):\n",
    "      i = 0\n",
    "      curr = self.top\n",
    "      while curr is not None:\n",
    "         i += 1\n",
    "         curr = curr.ref\n",
    "      return i\n",
    "\n",
    "   def __str__(self) -> str:\n",
    "      curr = self.top\n",
    "\n",
    "      statement = \"\"\n",
    "      while curr is not None:\n",
    "         statement += f\"{str(curr.data)} \"\n",
    "         curr = curr.ref\n",
    "      return statement\n",
    "\n",
    "   def push(self, val):\n",
    "      new_node = Node(val)\n",
    "      new_node.ref = self.top\n",
    "      self.top = new_node\n",
    "\n",
    "   def isempty(self):\n",
    "      return self.top == None\n",
    "\n",
    "   def peek(self):\n",
    "      if self.isempty():\n",
    "         return \"List is empty\"\n",
    "      return self.top.data\n",
    "   \n",
    "   def pop(self):\n",
    "      curr = self.top\n",
    "      if curr is None:\n",
    "         return \"No elements to pop\"\n",
    "      else:\n",
    "         self.top = curr.ref\n",
    "         return curr.data"
   ]
  },
  {
   "cell_type": "code",
   "execution_count": 7,
   "metadata": {},
   "outputs": [],
   "source": [
    "class Stack():\n",
    "   def __init__(self, size) -> None:\n",
    "      self.size = size\n",
    "      self.stack = [None] * self.size\n",
    "      self.top = -1\n",
    "\n",
    "   def push(self, num):\n",
    "      if self.top == self.size - 1:\n",
    "         return \"OverflowError\"\n",
    "      else:\n",
    "         self.top +=1\n",
    "         self.stack[self.top] = num\n",
    "   \n",
    "   def pop(self):\n",
    "      if self.top == -1: return \"OverflowError\"\n",
    "      else:\n",
    "         data = self.stack[self.top]\n",
    "         self.top -=1\n",
    "         print(data)\n",
    "\n",
    "   def traverse(self):\n",
    "      for j in range(self.top + 1):\n",
    "         print(self.stack[j], end=\" \")\n",
    "      "
   ]
  },
  {
   "cell_type": "code",
   "execution_count": 8,
   "metadata": {},
   "outputs": [],
   "source": [
    "st = Stack(3)"
   ]
  },
  {
   "cell_type": "code",
   "execution_count": 19,
   "metadata": {},
   "outputs": [
    {
     "data": {
      "text/plain": [
       "'OverflowError'"
      ]
     },
     "execution_count": 19,
     "metadata": {},
     "output_type": "execute_result"
    }
   ],
   "source": [
    "st.push(2)"
   ]
  },
  {
   "cell_type": "code",
   "execution_count": 20,
   "metadata": {},
   "outputs": [
    {
     "name": "stdout",
     "output_type": "stream",
     "text": [
      "2 2 2 None\n"
     ]
    }
   ],
   "source": [
    "print(st.traverse())"
   ]
  },
  {
   "cell_type": "code",
   "execution_count": null,
   "metadata": {},
   "outputs": [],
   "source": []
  }
 ],
 "metadata": {
  "kernelspec": {
   "display_name": "Python 3",
   "language": "python",
   "name": "python3"
  },
  "language_info": {
   "codemirror_mode": {
    "name": "ipython",
    "version": 3
   },
   "file_extension": ".py",
   "mimetype": "text/x-python",
   "name": "python",
   "nbconvert_exporter": "python",
   "pygments_lexer": "ipython3",
   "version": "3.12.1"
  },
  "orig_nbformat": 4
 },
 "nbformat": 4,
 "nbformat_minor": 2
}
