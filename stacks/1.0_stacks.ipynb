{
 "cells": [
  {
   "cell_type": "markdown",
   "metadata": {},
   "source": [
    "### Stacks"
   ]
  },
  {
   "cell_type": "markdown",
   "metadata": {},
   "source": [
    "#### push method"
   ]
  },
  {
   "cell_type": "code",
   "execution_count": 69,
   "metadata": {},
   "outputs": [],
   "source": [
    "class Node:\n",
    "   def __init__(self, data) -> None:\n",
    "      self.data = data\n",
    "      self.ref = None\n",
    "\n",
    "class stack():\n",
    "   def __init__(self) -> None:\n",
    "      self.top = None\n",
    "\n",
    "   def __str__(self) -> str:\n",
    "      curr = self.top\n",
    "\n",
    "      statement = \"\"\n",
    "      while curr is not None:\n",
    "         statement += f\"{str(curr.data)} \"\n",
    "         curr = curr.ref\n",
    "      return statement\n",
    "\n",
    "   def push(self, val):\n",
    "      new_node = Node(val)\n",
    "      new_node.ref = self.top\n",
    "      self.top = new_node\n",
    "\n",
    "   def isempty(self):\n",
    "      if self.top == None:\n",
    "         return True\n",
    "      else: return False\n",
    "\n",
    "   def peek(self):\n",
    "      if self.isempty():\n",
    "         return \"List is empty\"\n",
    "      return self.top.data\n",
    "   \n",
    "   def pop(self):\n",
    "      curr = self.top\n",
    "      if curr is None:\n",
    "         return \"No elements to pop\"\n",
    "      else:\n",
    "         self.top = curr.ref\n",
    "\n",
    "      "
   ]
  },
  {
   "cell_type": "code",
   "execution_count": 70,
   "metadata": {},
   "outputs": [],
   "source": [
    "s = stack()\n",
    "s.push(45)\n",
    "s.push(345)\n",
    "s.push(3)"
   ]
  },
  {
   "cell_type": "code",
   "execution_count": 71,
   "metadata": {},
   "outputs": [
    {
     "name": "stdout",
     "output_type": "stream",
     "text": [
      "3 345 45 \n"
     ]
    }
   ],
   "source": [
    "print(s)"
   ]
  },
  {
   "cell_type": "code",
   "execution_count": 78,
   "metadata": {},
   "outputs": [
    {
     "data": {
      "text/plain": [
       "'No elements to pop'"
      ]
     },
     "execution_count": 78,
     "metadata": {},
     "output_type": "execute_result"
    }
   ],
   "source": [
    "s.pop()"
   ]
  },
  {
   "cell_type": "code",
   "execution_count": 77,
   "metadata": {},
   "outputs": [
    {
     "name": "stdout",
     "output_type": "stream",
     "text": [
      "\n"
     ]
    }
   ],
   "source": [
    "print(s)"
   ]
  },
  {
   "cell_type": "code",
   "execution_count": null,
   "metadata": {},
   "outputs": [],
   "source": []
  }
 ],
 "metadata": {
  "kernelspec": {
   "display_name": "Python 3",
   "language": "python",
   "name": "python3"
  },
  "language_info": {
   "codemirror_mode": {
    "name": "ipython",
    "version": 3
   },
   "file_extension": ".py",
   "mimetype": "text/x-python",
   "name": "python",
   "nbconvert_exporter": "python",
   "pygments_lexer": "ipython3",
   "version": "3.12.1"
  },
  "orig_nbformat": 4
 },
 "nbformat": 4,
 "nbformat_minor": 2
}
