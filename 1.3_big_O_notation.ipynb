{
 "cells": [
  {
   "cell_type": "markdown",
   "metadata": {},
   "source": [
    "# Order of Growth "
   ]
  },
  {
   "cell_type": "markdown",
   "metadata": {},
   "source": [
    "we want scalability e.g perfection in different scenario. \n",
    "In a list, we have 1000 numbers randomly. We want to find 675\n",
    "- Best Case, if 675 is at the begining \n",
    "- Average Case, if 675 is at middle or somewhat\n",
    "- Wrost Case, if 675 is at the end or not even in the loop <br>\n",
    "\n",
    "In designing the algo, we always focus on the wrost case. So that our algo perform in every case"
   ]
  },
  {
   "cell_type": "markdown",
   "metadata": {},
   "source": [
    "## Big O() notation"
   ]
  },
  {
   "cell_type": "code",
   "execution_count": 1,
   "metadata": {},
   "outputs": [],
   "source": [
    "def fact(n):\n",
    "   ans = 1 # 1\n",
    "   while n > 1: # 1\n",
    "      ans *= n # 2\n",
    "      n -= 1 # 2\n",
    "   return ans\n"
   ]
  },
  {
   "cell_type": "markdown",
   "metadata": {},
   "source": [
    "### How to calculate in interms of Big O() notation\n",
    "1. ignore constants \n",
    "2. ignore coffecient e.g multiplicative constants\n",
    "\n",
    "From the above code <br>\n",
    "_1 + 5(n)_ remove constant 1 <br>\n",
    "_5(n)_ remvove coffecient 5 <br>\n",
    "_n_ answer <br>\n",
    "\n",
    "The releatioship is linear, thus, if input increases the time also increases"
   ]
  }
 ],
 "metadata": {
  "kernelspec": {
   "display_name": "Python 3",
   "language": "python",
   "name": "python3"
  },
  "language_info": {
   "codemirror_mode": {
    "name": "ipython",
    "version": 3
   },
   "file_extension": ".py",
   "mimetype": "text/x-python",
   "name": "python",
   "nbconvert_exporter": "python",
   "pygments_lexer": "ipython3",
   "version": "3.10.11"
  },
  "orig_nbformat": 4
 },
 "nbformat": 4,
 "nbformat_minor": 2
}
