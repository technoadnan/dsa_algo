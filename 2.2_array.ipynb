{
 "cells": [
  {
   "cell_type": "markdown",
   "metadata": {},
   "source": [
    "Arrays are fixed size meaning it can't be extend"
   ]
  },
  {
   "cell_type": "markdown",
   "metadata": {},
   "source": [
    "Homogenous: only same type of datatypes e.g exactly str or int or float\n",
    "   - Normal array e.g int arr[40];\n",
    "   - call by value\n",
    "Heterogeneous: can be different types of datatypes e.g str, int, float\n",
    "   - referential array\n",
    "   - call by reference \n"
   ]
  }
 ],
 "metadata": {
  "language_info": {
   "name": "python"
  },
  "orig_nbformat": 4
 },
 "nbformat": 4,
 "nbformat_minor": 2
}
