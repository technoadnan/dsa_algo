{
 "cells": [
  {
   "cell_type": "markdown",
   "metadata": {},
   "source": [
    "##### Append means add at the end"
   ]
  },
  {
   "cell_type": "code",
   "execution_count": 1,
   "metadata": {},
   "outputs": [],
   "source": [
    "class Node:\n",
    "   def __init__(self, data) -> None:\n",
    "      self.data = data\n",
    "      self.ref = None"
   ]
  },
  {
   "cell_type": "code",
   "execution_count": 3,
   "metadata": {},
   "outputs": [],
   "source": [
    "class Linked_list:\n",
    "   def __init__(self) -> None:\n",
    "      self.head = None\n",
    "   \n",
    "   def insert_head(self, value):\n",
    "      new_node = Node(value)\n",
    "\n",
    "      new_node.ref = self.head\n",
    "\n",
    "      self.head = new_node\n",
    "\n",
    "   def append(self, value):\n",
    "      new_node = Node(value)\n",
    "      curr = self.head\n",
    "\n",
    "      if self.head != None:\n",
    "         curr = curr.ref \n",
    "      \n",
    "      # reached the last node\n",
    "      curr.ref = new_node\n"
   ]
  },
  {
   "cell_type": "code",
   "execution_count": null,
   "metadata": {},
   "outputs": [],
   "source": [
    "l = Linked_list()\n",
    "l.insert_head(40)\n"
   ]
  }
 ],
 "metadata": {
  "kernelspec": {
   "display_name": "Python 3",
   "language": "python",
   "name": "python3"
  },
  "language_info": {
   "codemirror_mode": {
    "name": "ipython",
    "version": 3
   },
   "file_extension": ".py",
   "mimetype": "text/x-python",
   "name": "python",
   "nbconvert_exporter": "python",
   "pygments_lexer": "ipython3",
   "version": "3.10.11"
  },
  "orig_nbformat": 4
 },
 "nbformat": 4,
 "nbformat_minor": 2
}
