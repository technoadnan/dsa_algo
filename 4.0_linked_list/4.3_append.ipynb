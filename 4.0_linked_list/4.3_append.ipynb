{
 "cells": [
  {
   "cell_type": "markdown",
   "metadata": {},
   "source": [
    "##### Append means add at the end"
   ]
  },
  {
   "cell_type": "code",
   "execution_count": 29,
   "metadata": {},
   "outputs": [],
   "source": [
    "class Node:\n",
    "   def __init__(self, data):\n",
    "      self.data = data\n",
    "      self.ref = None"
   ]
  },
  {
   "cell_type": "code",
   "execution_count": 36,
   "metadata": {},
   "outputs": [],
   "source": [
    "class Linked_list:\n",
    "   def __init__(self) -> None:\n",
    "      self.head = None\n",
    "   \n",
    "   def append(self, value):\n",
    "      new_node = Node(value)\n",
    "\n",
    "      if self.head == None:\n",
    "         self.head = new_node\n",
    "         return\n",
    "\n",
    "      curr = self.head\n",
    "\n",
    "      while curr.ref != None:\n",
    "         curr = curr.ref \n",
    "      \n",
    "      # reached the last node\n",
    "      curr.ref = new_node\n",
    "   def __str__(self):\n",
    "      curr = self.head\n",
    "\n",
    "      result = ''\n",
    "      while curr != None:\n",
    "         result = result + str(curr.data) + \"->\"\n",
    "         curr = curr.ref\n",
    "      \n",
    "      return result[:-2]\n"
   ]
  },
  {
   "cell_type": "code",
   "execution_count": 37,
   "metadata": {},
   "outputs": [],
   "source": [
    "l = Linked_list()\n",
    "l.append(40)\n"
   ]
  },
  {
   "cell_type": "code",
   "execution_count": 38,
   "metadata": {},
   "outputs": [
    {
     "name": "stdout",
     "output_type": "stream",
     "text": [
      "40\n"
     ]
    }
   ],
   "source": [
    "print(f\"{l}\")\n"
   ]
  },
  {
   "cell_type": "code",
   "execution_count": 39,
   "metadata": {},
   "outputs": [],
   "source": [
    "l.append(56)"
   ]
  },
  {
   "cell_type": "code",
   "execution_count": 41,
   "metadata": {},
   "outputs": [
    {
     "name": "stdout",
     "output_type": "stream",
     "text": [
      "40->56\n"
     ]
    }
   ],
   "source": [
    "print(f\"{l}\")\n"
   ]
  }
 ],
 "metadata": {
  "kernelspec": {
   "display_name": "Python 3",
   "language": "python",
   "name": "python3"
  },
  "language_info": {
   "codemirror_mode": {
    "name": "ipython",
    "version": 3
   },
   "file_extension": ".py",
   "mimetype": "text/x-python",
   "name": "python",
   "nbconvert_exporter": "python",
   "pygments_lexer": "ipython3",
   "version": "3.10.11"
  },
  "orig_nbformat": 4
 },
 "nbformat": 4,
 "nbformat_minor": 2
}
