{
 "cells": [
  {
   "cell_type": "code",
   "execution_count": 115,
   "metadata": {},
   "outputs": [],
   "source": [
    "class Node:\n",
    "   def __init__(self, value) -> None:\n",
    "      self.data = value\n",
    "      self.ref = None\n",
    "\n",
    "class linkedList:\n",
    "   def __init__(self) -> None:\n",
    "      self.head = None\n",
    "\n",
    "   def __str__(self):\n",
    "      curr = self.head\n",
    "\n",
    "      result = ''\n",
    "      while curr != None:\n",
    "         result = result + str(curr.data) + \"->\"\n",
    "         curr = curr.ref\n",
    "      \n",
    "      return result[:-2]\n",
    "   \n",
    "   def insert_head(self, value):\n",
    "      new_node = Node(value) # create a new node \n",
    "      # create a connection \n",
    "      new_node.ref = self.head\n",
    "      # reassign head\n",
    "      self.head = new_node\n",
    "      \n",
    "   # write a program to replace the max number\n",
    "   def replace_max(self, value):\n",
    "      curr = self.head\n",
    "      max = 0\n",
    "      while curr != None:\n",
    "         if curr.data > max:\n",
    "            max = curr.data\n",
    "            m = curr\n",
    "         curr = curr.ref\n",
    "      m.data = value\n",
    "   \n",
    "   # write a program to add all odd numbers\n",
    "   def add_odd(self):\n",
    "      curr = self.head\n",
    "      index = 0\n",
    "      result = 0\n",
    "      while curr != None:\n",
    "         if index % 2 != 0:\n",
    "            result = result + curr.data\n",
    "         index += 1\n",
    "         curr = curr.ref\n",
    "      return result\n",
    "\n",
    "   # write a program to reverse a array\n",
    "   def reverse(self):\n",
    "      prev_node = None\n",
    "      curr_node = self.head\n",
    "\n",
    "      while curr_node != None:\n",
    "         next_node = curr_node.ref\n",
    "         curr_node.ref = prev_node\n",
    "         prev_node = curr_node\n",
    "         curr_node = next_node\n",
    "\n",
    "      self.head = prev_node\n"
   ]
  },
  {
   "cell_type": "code",
   "execution_count": 116,
   "metadata": {},
   "outputs": [],
   "source": [
    "l = linkedList()\n",
    "l.insert_head(5)\n",
    "l.insert_head(10)\n",
    "l.insert_head(20)\n",
    "l.insert_head(6)"
   ]
  },
  {
   "cell_type": "code",
   "execution_count": 117,
   "metadata": {},
   "outputs": [
    {
     "name": "stdout",
     "output_type": "stream",
     "text": [
      "6->20->10->5\n"
     ]
    }
   ],
   "source": [
    "print(l)"
   ]
  },
  {
   "cell_type": "code",
   "execution_count": 35,
   "metadata": {},
   "outputs": [],
   "source": [
    "l.replace_max(67)"
   ]
  },
  {
   "cell_type": "code",
   "execution_count": 95,
   "metadata": {},
   "outputs": [
    {
     "name": "stdout",
     "output_type": "stream",
     "text": [
      "6->20->10->5\n"
     ]
    }
   ],
   "source": [
    "print(l)"
   ]
  },
  {
   "cell_type": "code",
   "execution_count": 118,
   "metadata": {},
   "outputs": [
    {
     "data": {
      "text/plain": [
       "25"
      ]
     },
     "execution_count": 118,
     "metadata": {},
     "output_type": "execute_result"
    }
   ],
   "source": [
    "l.add_odd()"
   ]
  },
  {
   "cell_type": "code",
   "execution_count": 102,
   "metadata": {},
   "outputs": [
    {
     "name": "stdout",
     "output_type": "stream",
     "text": [
      "6->20->10->5\n"
     ]
    }
   ],
   "source": [
    "print(l)"
   ]
  },
  {
   "cell_type": "code",
   "execution_count": null,
   "metadata": {},
   "outputs": [],
   "source": []
  }
 ],
 "metadata": {
  "kernelspec": {
   "display_name": "Python 3",
   "language": "python",
   "name": "python3"
  },
  "language_info": {
   "codemirror_mode": {
    "name": "ipython",
    "version": 3
   },
   "file_extension": ".py",
   "mimetype": "text/x-python",
   "name": "python",
   "nbconvert_exporter": "python",
   "pygments_lexer": "ipython3",
   "version": "3.12.1"
  },
  "orig_nbformat": 4
 },
 "nbformat": 4,
 "nbformat_minor": 2
}
