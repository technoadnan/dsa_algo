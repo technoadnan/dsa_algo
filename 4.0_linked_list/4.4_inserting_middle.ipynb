{
 "cells": [
  {
   "cell_type": "code",
   "execution_count": 1,
   "metadata": {},
   "outputs": [],
   "source": [
    "class Node:\n",
    "   def __init__(self, value) -> None:\n",
    "      self.data = value\n",
    "      self.ref = None"
   ]
  },
  {
   "cell_type": "code",
   "execution_count": 2,
   "metadata": {},
   "outputs": [],
   "source": [
    "class linkedList:\n",
    "   def __init__(self, value) -> None:\n",
    "      self.head = value\n",
    "      self.n = 0 # number of linked list\n",
    "   \n",
    "   def __len__(self):\n",
    "      return self.n\n",
    "   \n",
    "   def insert_head(self, value):\n",
    "\n",
    "      new_node = Node(value) # create a new node \n",
    "\n",
    "      if self.head == None:\n",
    "         self.head = new_node\n",
    "         return\n",
    "\n",
    "      # create a connection \n",
    "      new_node.ref = self.head\n",
    " \n",
    "      # reassign head\n",
    "      self.head = new_node\n",
    "\n",
    "   def insert_after(self, value, after):\n",
    "      new_node = Node(value=value)\n",
    "\n",
    "      curr = self.head\n",
    "\n",
    "      while curr != None:\n",
    "         if curr.data == after:\n",
    "            break\n",
    "         curr = curr.ref\n",
    "      # case 1: curr is not none but the item is not available \n",
    "      if curr != None:\n",
    "         new_node.ref = curr.ref       \n",
    "         curr.ref = new_node\n",
    "      # case 2: Curr is none, the item is not present\n",
    "      else:\n",
    "         return 'item not found'"
   ]
  }
 ],
 "metadata": {
  "kernelspec": {
   "display_name": "Python 3",
   "language": "python",
   "name": "python3"
  },
  "language_info": {
   "codemirror_mode": {
    "name": "ipython",
    "version": 3
   },
   "file_extension": ".py",
   "mimetype": "text/x-python",
   "name": "python",
   "nbconvert_exporter": "python",
   "pygments_lexer": "ipython3",
   "version": "3.10.11"
  },
  "orig_nbformat": 4
 },
 "nbformat": 4,
 "nbformat_minor": 2
}
