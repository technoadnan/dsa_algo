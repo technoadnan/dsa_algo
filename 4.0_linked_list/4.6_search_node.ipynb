{
 "cells": [
  {
   "cell_type": "code",
   "execution_count": 12,
   "metadata": {},
   "outputs": [],
   "source": [
    "class Node:\n",
    "   def __init__(self, value) -> None:\n",
    "      self.data = value\n",
    "      self.ref = None\n",
    "\n",
    "class linkedList:\n",
    "   def __init__(self) -> None:\n",
    "      self.head = None\n",
    "\n",
    "   def __str__(self):\n",
    "      curr = self.head\n",
    "\n",
    "      result = ''\n",
    "      while curr != None:\n",
    "         result = result + str(curr.data) + \"->\"\n",
    "         curr = curr.ref\n",
    "      \n",
    "      return result[:-2]\n",
    "   \n",
    "   def insert_head(self, value):\n",
    "      new_node = Node(value) # create a new node \n",
    "      # create a connection \n",
    "      new_node.ref = self.head\n",
    "      # reassign head\n",
    "      self.head = new_node\n",
    "   \n",
    "   def search_node(self, item):\n",
    "      curr = self.head\n",
    "      index = 0\n",
    "      while curr != None:\n",
    "         if item == curr.data:\n",
    "            return index\n",
    "         curr = curr.ref\n",
    "         index = index + 1\n",
    "      \n",
    "      return \"IndexError\"\n"
   ]
  },
  {
   "cell_type": "code",
   "execution_count": 13,
   "metadata": {},
   "outputs": [],
   "source": [
    "l = linkedList()\n",
    "l.insert_head(34)\n",
    "l.insert_head(64)"
   ]
  },
  {
   "cell_type": "code",
   "execution_count": 14,
   "metadata": {},
   "outputs": [
    {
     "name": "stdout",
     "output_type": "stream",
     "text": [
      "64->34\n"
     ]
    }
   ],
   "source": [
    "print(l)"
   ]
  },
  {
   "cell_type": "code",
   "execution_count": 16,
   "metadata": {},
   "outputs": [
    {
     "data": {
      "text/plain": [
       "'IndexError'"
      ]
     },
     "execution_count": 16,
     "metadata": {},
     "output_type": "execute_result"
    }
   ],
   "source": [
    "l.search_node(78)"
   ]
  },
  {
   "cell_type": "code",
   "execution_count": null,
   "metadata": {},
   "outputs": [],
   "source": []
  }
 ],
 "metadata": {
  "kernelspec": {
   "display_name": "Python 3",
   "language": "python",
   "name": "python3"
  },
  "language_info": {
   "codemirror_mode": {
    "name": "ipython",
    "version": 3
   },
   "file_extension": ".py",
   "mimetype": "text/x-python",
   "name": "python",
   "nbconvert_exporter": "python",
   "pygments_lexer": "ipython3",
   "version": "3.12.1"
  },
  "orig_nbformat": 4
 },
 "nbformat": 4,
 "nbformat_minor": 2
}
