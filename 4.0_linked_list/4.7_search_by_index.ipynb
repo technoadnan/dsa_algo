{
 "cells": [
  {
   "cell_type": "code",
   "execution_count": null,
   "metadata": {},
   "outputs": [],
   "source": [
    "class Node:\n",
    "   def __init__(self, value) -> None:\n",
    "      self.data = value\n",
    "      self.ref = None\n",
    "\n",
    "class linkedList:\n",
    "   def __init__(self) -> None:\n",
    "      self.head = None\n",
    "\n",
    "   def __str__(self):\n",
    "      curr = self.head\n",
    "\n",
    "      result = ''\n",
    "      while curr != None:\n",
    "         result = result + str(curr.data) + \"->\"\n",
    "         curr = curr.ref\n",
    "      \n",
    "      return result[:-2]\n",
    "   \n",
    "   def insert_head(self, value):\n",
    "      new_node = Node(value) # create a new node \n",
    "      # create a connection \n",
    "      new_node.ref = self.head\n",
    "      # reassign head\n",
    "      self.head = new_node\n",
    "   \n",
    "   def __getitem__(self, index):\n",
    "      curr = self.head\n",
    "      pos = 0\n",
    "      while curr != None:\n",
    "         if pos == index:\n",
    "            return curr.data\n",
    "         curr = curr.ref\n",
    "         pos = pos + 1 \n",
    "\n",
    "      return \"IndexError\"\n"
   ]
  }
 ],
 "metadata": {
  "language_info": {
   "name": "python"
  },
  "orig_nbformat": 4
 },
 "nbformat": 4,
 "nbformat_minor": 2
}
