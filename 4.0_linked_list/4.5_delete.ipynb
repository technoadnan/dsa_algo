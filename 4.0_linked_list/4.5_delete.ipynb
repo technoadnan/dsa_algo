{
 "cells": [
  {
   "cell_type": "markdown",
   "metadata": {},
   "source": [
    "##### Delete by head"
   ]
  },
  {
   "cell_type": "code",
   "execution_count": 29,
   "metadata": {},
   "outputs": [],
   "source": [
    "class Node:\n",
    "   def __init__(self, value) -> None:\n",
    "      self.data = value\n",
    "      self.ref = None\n",
    "\n",
    "class linkedList:\n",
    "   def __init__(self) -> None:\n",
    "      self.head = None\n",
    "\n",
    "   def __str__(self):\n",
    "      curr = self.head\n",
    "\n",
    "      result = ''\n",
    "      while curr != None:\n",
    "         result = result + str(curr.data) + \"->\"\n",
    "         curr = curr.ref\n",
    "      \n",
    "      return result[:-2]\n",
    "   \n",
    "   def insert_head(self, value):\n",
    "      new_node = Node(value) # create a new node \n",
    "      # create a connection \n",
    "      new_node.ref = self.head\n",
    "      # reassign head\n",
    "      self.head = new_node\n",
    "\n",
    "   def clear(self):\n",
    "      self.head = None\n",
    "   \n",
    "   def delete_head(self):\n",
    "      if self.head == None:\n",
    "         return \"empty Linked List\"\n",
    "      self.head = self.head.ref\n",
    "\n",
    "   \n",
    "\n",
    "\n",
    "\n",
    "\n",
    "\n",
    "   "
   ]
  },
  {
   "cell_type": "code",
   "execution_count": 35,
   "metadata": {},
   "outputs": [
    {
     "name": "stdout",
     "output_type": "stream",
     "text": [
      "45->56\n"
     ]
    }
   ],
   "source": [
    "l = linkedList()\n",
    "l.insert_head(56)\n",
    "l.insert_head(45)\n",
    "print(l)"
   ]
  },
  {
   "cell_type": "code",
   "execution_count": 36,
   "metadata": {},
   "outputs": [],
   "source": [
    "l.remove(45)"
   ]
  },
  {
   "cell_type": "code",
   "execution_count": 37,
   "metadata": {},
   "outputs": [
    {
     "name": "stdout",
     "output_type": "stream",
     "text": [
      "56\n"
     ]
    }
   ],
   "source": [
    "print(l)"
   ]
  },
  {
   "cell_type": "code",
   "execution_count": null,
   "metadata": {},
   "outputs": [],
   "source": []
  }
 ],
 "metadata": {
  "kernelspec": {
   "display_name": "Python 3",
   "language": "python",
   "name": "python3"
  },
  "language_info": {
   "codemirror_mode": {
    "name": "ipython",
    "version": 3
   },
   "file_extension": ".py",
   "mimetype": "text/x-python",
   "name": "python",
   "nbconvert_exporter": "python",
   "pygments_lexer": "ipython3",
   "version": "3.12.1"
  },
  "orig_nbformat": 4
 },
 "nbformat": 4,
 "nbformat_minor": 2
}
