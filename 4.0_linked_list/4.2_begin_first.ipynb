{
 "cells": [
  {
   "cell_type": "code",
   "execution_count": 1,
   "metadata": {},
   "outputs": [
    {
     "name": "stdout",
     "output_type": "stream",
     "text": [
      "6->5->4\n"
     ]
    }
   ],
   "source": [
    "class Node:\n",
    "   def __init__(self, data) -> None:\n",
    "      self.data = data\n",
    "      self.ref = None\n",
    "\n",
    "\n",
    "class Linked_list:\n",
    "   def __init__(self) -> None:\n",
    "      self.head = None\n",
    "\n",
    "   def insert_head(self, value):\n",
    "      new_node = Node(value)\n",
    "\n",
    "      new_node.ref = self.head\n",
    "\n",
    "      self.head = new_node\n",
    "\n",
    "   def traverse(self):\n",
    "      curr = self.head\n",
    "\n",
    "      result = ''\n",
    "      while curr != None:\n",
    "         result = result + str(curr.data) + \"->\"\n",
    "         # print(curr.data)\n",
    "         curr = curr.ref\n",
    "      \n",
    "      return result[:-2]\n",
    "   \n",
    "l = Linked_list()\n",
    "l.insert_head(4)\n",
    "l.insert_head(5)\n",
    "l.insert_head(6)\n",
    "\n",
    "\n",
    "print(l.traverse())"
   ]
  },
  {
   "cell_type": "code",
   "execution_count": null,
   "metadata": {},
   "outputs": [],
   "source": []
  }
 ],
 "metadata": {
  "kernelspec": {
   "display_name": "Python 3",
   "language": "python",
   "name": "python3"
  },
  "language_info": {
   "codemirror_mode": {
    "name": "ipython",
    "version": 3
   },
   "file_extension": ".py",
   "mimetype": "text/x-python",
   "name": "python",
   "nbconvert_exporter": "python",
   "pygments_lexer": "ipython3",
   "version": "3.10.11"
  },
  "orig_nbformat": 4
 },
 "nbformat": 4,
 "nbformat_minor": 2
}
