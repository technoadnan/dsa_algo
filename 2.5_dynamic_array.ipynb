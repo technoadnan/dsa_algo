{
 "cells": [
  {
   "cell_type": "markdown",
   "metadata": {},
   "source": [
    "# Dynamic Array"
   ]
  },
  {
   "cell_type": "markdown",
   "metadata": {},
   "source": [
    "Dynamic Array meaing size of array is mutable. static array is when the size is immutable(_size can't change_). \n",
    "\n",
    "#### How Dynamic Array works?\n",
    "In dynamic array _n_ is denoted as memory address. When elements are added to the array, the array checks whether the current number of elements exceeds its capacity. If the current number of elements is equal to or greater than the current capacity _(n)_, the array needs to be resized.<br>\n",
    "The size of array increses by _n*2_ or _n+8_ depending on machine. \n",
    "Thus, the elements from the old array are copied to the new array. "
   ]
  },
  {
   "cell_type": "markdown",
   "metadata": {},
   "source": [
    "![z_img\\\\ynamic_arr.JPG](z_img\\\\dynamic_arr.JPG)"
   ]
  }
 ],
 "metadata": {
  "language_info": {
   "name": "python"
  },
  "orig_nbformat": 4
 },
 "nbformat": 4,
 "nbformat_minor": 2
}
