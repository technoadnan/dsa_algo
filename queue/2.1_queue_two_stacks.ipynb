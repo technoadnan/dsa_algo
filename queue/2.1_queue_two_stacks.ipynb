{
 "cells": [
  {
   "cell_type": "markdown",
   "metadata": {},
   "source": [
    "#### create a queue datatype using stacks"
   ]
  },
  {
   "cell_type": "code",
   "execution_count": 1,
   "metadata": {},
   "outputs": [],
   "source": [
    "class Node:\n",
    "   def __init__(self, data):\n",
    "      self.data = data\n",
    "      self.ref = None\n",
    "\n",
    "\n",
    "class Stack():\n",
    "   def __init__(self) -> None:\n",
    "      self.top = None\n",
    "\n",
    "   def traverse(self):\n",
    "      curr = self.top\n",
    "\n",
    "      statement = \"\"\n",
    "      while curr is not None:\n",
    "         statement += f\"{str(curr.data)} \"\n",
    "         curr = curr.ref\n",
    "      return statement\n",
    "\n",
    "   def push(self, val):\n",
    "      new_node = Node(val)\n",
    "      new_node.ref = self.top\n",
    "      self.top = new_node\n",
    "\n",
    "   def isempty(self):\n",
    "      if self.top == None:\n",
    "         return True\n",
    "      else:\n",
    "         return False\n",
    "\n",
    "   def peek(self):\n",
    "      if self.isempty():\n",
    "         return \"List is empty\"\n",
    "      return self.top.data\n",
    "\n",
    "   def pop(self):\n",
    "      curr = self.top\n",
    "      if curr is None:\n",
    "         return \"No elements to pop\"\n",
    "      else:\n",
    "         self.top = curr.ref\n",
    "         curr.ref = None\n",
    "         return curr.data\n"
   ]
  },
  {
   "cell_type": "code",
   "execution_count": 2,
   "metadata": {},
   "outputs": [],
   "source": [
    "class Queue():\n",
    "   def __init__(self) -> None:\n",
    "      self.e = Stack()\n",
    "      self.d = Stack()\n",
    "\n",
    "   def enqueue(self, value):\n",
    "      self.e.push(value)\n",
    "      \n",
    "\n",
    "   def dequeue(self):\n",
    "      if self.e.isempty():\n",
    "         return \"Queue is empty\"\n",
    "      \n",
    "      while not (self.e.isempty()):\n",
    "         i = self.e.pop()\n",
    "         self.d.push(i)\n",
    "\n",
    "      val = self.d.pop()\n",
    "\n",
    "      while not (self.d.isempty()):\n",
    "         j = self.d.pop()\n",
    "         self.e.push(j)\n",
    "\n",
    "      return val\n",
    "\n",
    "   def show(self):\n",
    "      print(self.e.traverse())\n"
   ]
  },
  {
   "cell_type": "code",
   "execution_count": 3,
   "metadata": {},
   "outputs": [
    {
     "name": "stdout",
     "output_type": "stream",
     "text": [
      "3 12 \n"
     ]
    }
   ],
   "source": [
    "q = Queue()\n",
    "q.enqueue(4)\n",
    "q.enqueue(12)\n",
    "q.enqueue(3)\n",
    "# q.enqueue()\n",
    "q.dequeue() # 4\n",
    "q.show()"
   ]
  }
 ],
 "metadata": {
  "kernelspec": {
   "display_name": "Python 3",
   "language": "python",
   "name": "python3"
  },
  "language_info": {
   "codemirror_mode": {
    "name": "ipython",
    "version": 3
   },
   "file_extension": ".py",
   "mimetype": "text/x-python",
   "name": "python",
   "nbconvert_exporter": "python",
   "pygments_lexer": "ipython3",
   "version": "3.12.1"
  },
  "orig_nbformat": 4
 },
 "nbformat": 4,
 "nbformat_minor": 2
}
