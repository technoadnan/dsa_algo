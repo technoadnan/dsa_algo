{
 "cells": [
  {
   "cell_type": "markdown",
   "metadata": {},
   "source": [
    "## Queue methods and operations"
   ]
  },
  {
   "cell_type": "code",
   "execution_count": 1,
   "metadata": {},
   "outputs": [],
   "source": [
    "class Node:\n",
    "   def __init__(self, value) -> None:\n",
    "      self.value = value\n",
    "      self.ref = None"
   ]
  },
  {
   "cell_type": "code",
   "execution_count": 26,
   "metadata": {},
   "outputs": [],
   "source": [
    "class Queue:\n",
    "   def __init__(self) -> None:\n",
    "      self.front = None\n",
    "      self.rear = None\n",
    "   \n",
    "   def size(self):\n",
    "      counter = 0\n",
    "      curr = self.front\n",
    "\n",
    "      while curr != None:\n",
    "         counter += 1\n",
    "         curr = curr.ref\n",
    "      \n",
    "      return counter\n",
    "\n",
    "   def enqueue(self, value):\n",
    "      new_node = Node(value)\n",
    "      if self.rear == None:\n",
    "         self.front = new_node\n",
    "         self.rear = self.front\n",
    "      else:\n",
    "         self.rear.ref = new_node\n",
    "         self.rear = new_node\n",
    "   def dequeue(self):\n",
    "      if self.front == None:\n",
    "         return \"empty\"\n",
    "      else:\n",
    "         self.front = self.front.ref\n",
    "\n",
    "   def traverse(self):\n",
    "      curr = self.front\n",
    "\n",
    "      while curr != None:\n",
    "         print(curr.value)\n",
    "         curr = curr.ref"
   ]
  },
  {
   "cell_type": "code",
   "execution_count": 27,
   "metadata": {},
   "outputs": [],
   "source": [
    "a = Queue()\n",
    "a.enqueue(6)\n",
    "a.enqueue(8)"
   ]
  },
  {
   "cell_type": "code",
   "execution_count": 28,
   "metadata": {},
   "outputs": [
    {
     "name": "stdout",
     "output_type": "stream",
     "text": [
      "6\n",
      "8\n"
     ]
    }
   ],
   "source": [
    "a.traverse()"
   ]
  },
  {
   "cell_type": "code",
   "execution_count": 35,
   "metadata": {},
   "outputs": [
    {
     "data": {
      "text/plain": [
       "'empty'"
      ]
     },
     "execution_count": 35,
     "metadata": {},
     "output_type": "execute_result"
    }
   ],
   "source": [
    "a.dequeue()"
   ]
  },
  {
   "cell_type": "code",
   "execution_count": 36,
   "metadata": {},
   "outputs": [],
   "source": [
    "a.traverse()"
   ]
  },
  {
   "cell_type": "code",
   "execution_count": 37,
   "metadata": {},
   "outputs": [
    {
     "data": {
      "text/plain": [
       "0"
      ]
     },
     "execution_count": 37,
     "metadata": {},
     "output_type": "execute_result"
    }
   ],
   "source": [
    "a.size()"
   ]
  }
 ],
 "metadata": {
  "kernelspec": {
   "display_name": "Python 3",
   "language": "python",
   "name": "python3"
  },
  "language_info": {
   "codemirror_mode": {
    "name": "ipython",
    "version": 3
   },
   "file_extension": ".py",
   "mimetype": "text/x-python",
   "name": "python",
   "nbconvert_exporter": "python",
   "pygments_lexer": "ipython3",
   "version": "3.12.1"
  },
  "orig_nbformat": 4
 },
 "nbformat": 4,
 "nbformat_minor": 2
}
