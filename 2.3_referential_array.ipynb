{
 "cells": [
  {
   "cell_type": "markdown",
   "metadata": {},
   "source": [
    "# Referential array"
   ]
  },
  {
   "cell_type": "markdown",
   "metadata": {},
   "source": [
    "Use the memory directly so we can store int or str. Example, \"101\" as memory address is for int but we can change int to char and \"101\" address will still be the same. It’s called _reference Call by reference_"
   ]
  },
  {
   "cell_type": "markdown",
   "metadata": {},
   "source": [
    "Disadvantage:\n",
    "   - Slow since it is storing data in 2 step process\n",
    "      - 1st process is items are store in a list\n",
    "      - 2nd process is address are store \n",
    "   - Extra Memory\n",
    "      - same as the up one"
   ]
  }
 ],
 "metadata": {
  "language_info": {
   "name": "python"
  },
  "orig_nbformat": 4
 },
 "nbformat": 4,
 "nbformat_minor": 2
}
